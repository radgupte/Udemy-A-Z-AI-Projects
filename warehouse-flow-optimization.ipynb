{
 "cells": [
  {
   "cell_type": "code",
   "execution_count": 1,
   "metadata": {},
   "outputs": [],
   "source": [
    "import numpy as np"
   ]
  },
  {
   "cell_type": "code",
   "execution_count": 2,
   "metadata": {},
   "outputs": [],
   "source": [
    "# Setting the parameters gamma and alpha for the Q-Learning\n",
    "gamma = 0.75\n",
    "alpha = 0.9"
   ]
  },
  {
   "cell_type": "code",
   "execution_count": null,
   "metadata": {},
   "outputs": [],
   "source": [
    "# Define states\n",
    "location_to_state = {'A': 0,\n",
    " 'B': 1,\n",
    " 'C': 2,\n",
    " 'D': 3,\n",
    " 'E': 4,\n",
    " 'F': 5,\n",
    " 'G': 6,\n",
    " 'H': 7,\n",
    " 'I': 8,\n",
    " 'J': 9,\n",
    " 'K': 10,\n",
    " 'L': 11}"
   ]
  },
  {
   "cell_type": "code",
   "execution_count": null,
   "metadata": {},
   "outputs": [],
   "source": [
    "# Define actions\n",
    "actions = [0, 1, 2, 3, 4, 5, 6, 7, 8, 9, 10, 11]"
   ]
  },
  {
   "cell_type": "code",
   "execution_count": 34,
   "metadata": {},
   "outputs": [],
   "source": [
    "# Define rewards\n",
    "R = np.array([[0,1,0,0,0,0,0,0,0,0,0,0],\n",
    " [1,0,1,0,0,1,0,0,0,0,0,0],\n",
    " [0,1,0,0,0,0,1,0,0,0,0,0],\n",
    " [0,0,0,0,0,0,0,1,0,0,0,0],\n",
    " [0,0,0,0,0,0,0,0,1,0,0,0],\n",
    " [0,1,0,0,0,0,0,0,0,1,0,0],\n",
    " [0,0,1,0,0,0,1000,1,0,0,0,0],\n",
    " [0,0,0,1,0,0,1,0,0,0,0,1],\n",
    " [0,0,0,0,1,0,0,0,0,1,0,0],\n",
    " [0,0,0,0,0,1,0,0,1,0,1,0],\n",
    " [0,0,0,0,0,0,0,0,0,1,0,1],\n",
    " [0,0,0,0,0,0,0,1,0,0,1,0]])"
   ]
  },
  {
   "cell_type": "code",
   "execution_count": 38,
   "metadata": {},
   "outputs": [],
   "source": [
    "# Map from the states to the locations\n",
    "state_to_location = {state: location for location, state in location_to_state.items()}"
   ]
  },
  {
   "cell_type": "code",
   "execution_count": 43,
   "metadata": {},
   "outputs": [],
   "source": [
    "# Final function that returns the shortest route from start to end location\n",
    "def route(starting_location, ending_location):\n",
    "    R_new = np.copy(R)\n",
    "    55\n",
    "    60\n",
    "    65\n",
    "    70\n",
    "    75\n",
    "    80\n",
    "    ending_state = location_to_state[ending_location]\n",
    "    R_new[ending_state, ending_state] = 1000\n",
    "    Q = np.array(np.zeros([12,12]))\n",
    "    for i in range(1000):\n",
    "        current_state = np.random.randint(0,12)\n",
    "        playable_actions = []\n",
    "        for j in range(12):\n",
    "            if R_new[current_state, j] > 0:\n",
    "                playable_actions.append(j)\n",
    "        next_state = np.random.choice(playable_actions)\n",
    "        TD = R_new[current_state, next_state] + gamma * Q[next_state, np.argmax(Q[next_state,])]- Q[current_state, next_state]\n",
    "        Q[current_state, next_state] = Q[current_state, next_state] + alpha * TD\n",
    "    route = [starting_location]\n",
    "    next_location = starting_location\n",
    "    while (next_location != ending_location):\n",
    "        starting_state = location_to_state[starting_location]\n",
    "        next_state = np.argmax(Q[starting_state,])\n",
    "        next_location = state_to_location[next_state]\n",
    "        route.append(next_location)\n",
    "        starting_location = next_location\n",
    "    return route\n"
   ]
  },
  {
   "cell_type": "code",
   "execution_count": 44,
   "metadata": {},
   "outputs": [],
   "source": [
    "# Final function that returns optimal route\n",
    "def best_route(starting_location, intermediary_location, ending_location):\n",
    "    return route(starting_location, intermediary_location) + route(intermediary_location, ending_location)[1:]"
   ]
  },
  {
   "cell_type": "code",
   "execution_count": 49,
   "metadata": {},
   "outputs": [
    {
     "name": "stdout",
     "output_type": "stream",
     "text": [
      "Route:\n"
     ]
    },
    {
     "data": {
      "text/plain": [
       "['E', 'I', 'J', 'K', 'L', 'H', 'G']"
      ]
     },
     "execution_count": 49,
     "metadata": {},
     "output_type": "execute_result"
    }
   ],
   "source": [
    "# Get the route from point A to point B\n",
    "print(\"Route:\")\n",
    "route('E', 'G')"
   ]
  }
 ],
 "metadata": {
  "kernelspec": {
   "display_name": "myenv",
   "language": "python",
   "name": "python3"
  },
  "language_info": {
   "codemirror_mode": {
    "name": "ipython",
    "version": 3
   },
   "file_extension": ".py",
   "mimetype": "text/x-python",
   "name": "python",
   "nbconvert_exporter": "python",
   "pygments_lexer": "ipython3",
   "version": "3.12.4"
  }
 },
 "nbformat": 4,
 "nbformat_minor": 2
}
